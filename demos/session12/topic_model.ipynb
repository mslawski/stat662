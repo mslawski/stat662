{
 "cells": [
  {
   "cell_type": "code",
   "execution_count": 2,
   "id": "fb68714e",
   "metadata": {},
   "outputs": [],
   "source": [
    "### NMF/topic model example (20 newsgroups data set)\n",
    "\n",
    "from sklearn.datasets import fetch_20newsgroups\n",
    "from sklearn.feature_extraction.text import TfidfVectorizer, CountVectorizer\n",
    "from sklearn.decomposition import NMF\n",
    "import numpy as np\n",
    "import matplotlib.pyplot as plt\n",
    "import os, ssl\n",
    "if (not os.environ.get('PYTHONHTTPSVERIFY', '') and\n",
    "    getattr(ssl, '_create_unverified_context', None)):\n",
    "    ssl._create_default_https_context = ssl._create_unverified_context"
   ]
  },
  {
   "cell_type": "code",
   "execution_count": 11,
   "id": "718044a9",
   "metadata": {},
   "outputs": [
    {
     "data": {
      "text/plain": [
       "\"For Sale:  1990 Pontiac Grand Prix SE\\n\\nWhite, White rims, Gray interior.\\n58K miles (mostly highway),\\n3.8 Litre V6 multi-port fuel-injected engine,\\n5 speed manual transmission.\\n\\nOptions include:\\n\\nA/C,\\nRear defogger,\\nPower steering,\\nPower brakes,\\nPower windows,\\nPower locks,\\nPower mirrors,\\nCruise control,\\nPower glass moonroof with sunshade,\\nPower seat/recliner (driver's),\\nPower seat/comfort/lumbar/headrest (both),\\nAM/FM cassette stero,\\nElectronic monitor/service system\\nwith graphic compass,\\nStereo controls duplicated on\\nsteering wheel,\\nRemote-keyless entry,\\nand others.\\n\\nAsking $11,500.\\n\\nThe car looks and rides like it just rolled off\\nof the dealers lot.  It has been garaged and pampered.\\nIt gets an average of 27.5 mpg highway, sometimes better;\\ncity is around 19-23 mpg, depending on how it is driven.\\n\\nSelling because of baby coming soon.  Need 4-door family\\ncar.  Will consider trade or partial trade with Ford Taurus,\\nMercury Sable, or 4-door Pontiac Grand Am or similar American\\ncar.\""
      ]
     },
     "execution_count": 11,
     "metadata": {},
     "output_type": "execute_result"
    }
   ],
   "source": [
    "#reading data\n",
    "dataset = fetch_20newsgroups(shuffle=True, random_state=1,remove=('headers', 'footers', 'quotes'))\n",
    "dataset.data[99]"
   ]
  },
  {
   "cell_type": "code",
   "execution_count": 3,
   "id": "2ebab26f",
   "metadata": {},
   "outputs": [
    {
     "name": "stdout",
     "output_type": "stream",
     "text": [
      "[[  0 480]\n",
      " [  1 584]\n",
      " [  2 591]\n",
      " [  3 590]\n",
      " [  4 578]\n",
      " [  5 593]\n",
      " [  6 585]\n",
      " [  7 594]\n",
      " [  8 598]\n",
      " [  9 597]\n",
      " [ 10 600]\n",
      " [ 11 595]\n",
      " [ 12 591]\n",
      " [ 13 594]\n",
      " [ 14 593]\n",
      " [ 15 599]\n",
      " [ 16 546]\n",
      " [ 17 564]\n",
      " [ 18 465]\n",
      " [ 19 377]]\n"
     ]
    }
   ],
   "source": [
    "# count how many newsgroups articles from each group\n",
    "target=dataset.target\n",
    "unique, counts = np.unique(target, return_counts=True)\n",
    "with np.printoptions(threshold=np.inf):\n",
    "    print(np.asarray((unique, counts)).T)\n",
    "\n",
    "\n",
    "data_samples = dataset.data \n",
    "len(data_samples)\n",
    "\n",
    "\n",
    "n_features = 1000  #maximum features (top 1000 words across the corpus)\n",
    "n_components = 20  #number of topics to find"
   ]
  },
  {
   "cell_type": "code",
   "execution_count": 12,
   "id": "e30bb6b2",
   "metadata": {},
   "outputs": [
    {
     "name": "stderr",
     "output_type": "stream",
     "text": [
      "/Library/Frameworks/Python.framework/Versions/3.10/lib/python3.10/site-packages/sklearn/decomposition/_nmf.py:289: FutureWarning: The 'init' value, when 'init=None' and n_components is less than n_samples and n_features, will be changed from 'nndsvd' to 'nndsvda' in 1.1 (renaming of 0.26).\n",
      "  warnings.warn(\n"
     ]
    }
   ],
   "source": [
    "#tfidf tranformation\n",
    "\n",
    "tfidf_vectorizer = TfidfVectorizer(max_df=0.95, min_df=2,\n",
    "                                   max_features=n_features,\n",
    "                                   stop_words='english',\n",
    "                                   token_pattern=u'(?u)\\\\b\\\\w*[a-z]\\\\w+\\\\b'   #get rid of numbers\n",
    "                                   )\n",
    "tfidf = tfidf_vectorizer.fit_transform(data_samples)\n",
    "\n",
    "\n",
    "\n",
    "tfidf.shape\n",
    "\n",
    "\n",
    "\n",
    "#NMF model (should be run with multiple random initializtions)\n",
    "nmf = NMF(n_components=n_components, random_state=1).fit(tfidf)"
   ]
  },
  {
   "cell_type": "code",
   "execution_count": 15,
   "id": "dc437145",
   "metadata": {},
   "outputs": [
    {
     "data": {
      "text/plain": [
       "<matplotlib.image.AxesImage at 0x166a0b100>"
      ]
     },
     "execution_count": 15,
     "metadata": {},
     "output_type": "execute_result"
    },
    {
     "data": {
      "image/png": "[encoded data removed]",
      "text/plain": [
       "<Figure size 432x288 with 1 Axes>"
      ]
     },
     "metadata": {
      "needs_background": "light"
     },
     "output_type": "display_data"
    }
   ],
   "source": [
    "feature_names = tfidf_vectorizer.get_feature_names()\n",
    "topics = nmf.components_\n",
    "topics.shape\n",
    "plt.imshow(topics.T, cmap='Greys', interpolation='nearest', aspect = 'auto')\n",
    "#plt.show()\n",
    "#plt.axes().set_aspect('equal')"
   ]
  },
  {
   "cell_type": "code",
   "execution_count": 16,
   "id": "e8b1ce83",
   "metadata": {},
   "outputs": [
    {
     "name": "stdout",
     "output_type": "stream",
     "text": [
      "NMF results\n",
      "Topic #0: people government right gun armenian armenians law said rights guns\n",
      " \n",
      "Topic #1: thanks mail advance looking hi info help information address appreciated\n",
      " \n",
      "Topic #2: god jesus bible believe christ faith christian christians church sin\n",
      " \n",
      "Topic #3: game team year games season players play hockey win league\n",
      " \n",
      "Topic #4: drive scsi hard drives disk ide floppy controller cd mac\n",
      " \n",
      "Topic #5: new sale price offer condition shipping asking interested used sell\n",
      " \n",
      "Topic #6: windows file files dos use window program using problem version\n",
      " \n",
      "Topic #7: edu soon university cs ftp email article internet pub david\n",
      " \n",
      "Topic #8: key chip encryption clipper keys use government escrow public algorithm\n",
      " \n",
      "Topic #9: don know want let need sure sorry tell believe things\n",
      " \n",
      "Topic #10: card video monitor cards drivers bus vga driver color memory\n",
      " \n",
      "Topic #11: just thought tell mean wanted ll fine work oh little\n",
      " \n",
      "Topic #12: does know anybody mean doesn say work help program exist\n",
      " \n",
      "Topic #13: like sounds looks look lot things sound make use really\n",
      " \n",
      "Topic #14: car cars engine speed miles driver buy bike insurance power\n",
      " \n",
      "Topic #15: space nasa shuttle launch data orbit earth program moon station\n",
      " \n",
      "Topic #16: good ve time got did really ll going problem years\n",
      " \n",
      "Topic #17: israel israeli jews arab jewish war state peace land anti\n",
      " \n",
      "Topic #18: think lot really wrong say better agree makes science bit\n",
      " \n",
      "Topic #19: com list dave article internet sun email phone address hp\n",
      " \n",
      "\n"
     ]
    }
   ],
   "source": [
    "# print top words for each topic\n",
    "\n",
    "def print_top_words(topics, feature_names, n_top_words):\n",
    "    for topic_idx, topic in enumerate(topics):\n",
    "        message = \"Topic #%d: \" % topic_idx\n",
    "        message += \" \".join([feature_names[i]\n",
    "                             for i in topic.argsort()[:-n_top_words - 1:-1]])\n",
    "        print(message)\n",
    "        print(\" \")\n",
    "    print()\n",
    "\n",
    "\n",
    "print(\"NMF results\")\n",
    "print_top_words(topics,feature_names,10)"
   ]
  },
  {
   "cell_type": "code",
   "execution_count": 17,
   "id": "0a2412b5",
   "metadata": {},
   "outputs": [
    {
     "data": {
      "text/plain": [
       "<matplotlib.image.AxesImage at 0x12f08c940>"
      ]
     },
     "execution_count": 17,
     "metadata": {},
     "output_type": "execute_result"
    },
    {
     "data": {
      "image/png": "[encoded data removed]",
      "text/plain": [
       "<Figure size 432x288 with 1 Axes>"
      ]
     },
     "metadata": {
      "needs_background": "light"
     },
     "output_type": "display_data"
    }
   ],
   "source": [
    "# coefficients in the space spanned by the topics (for subsequent clustering etc)\n",
    "\n",
    "coefs = nmf.transform(tfidf)\n",
    "plt.imshow(coefs.T, cmap='Greys', interpolation='nearest', aspect = 'auto')"
   ]
  },
  {
   "cell_type": "code",
   "execution_count": null,
   "id": "4ad47ceb",
   "metadata": {},
   "outputs": [],
   "source": []
  }
 ],
 "metadata": {
  "kernelspec": {
   "display_name": "Python 3 (ipykernel)",
   "language": "python",
   "name": "python3"
  },
  "language_info": {
   "codemirror_mode": {
    "name": "ipython",
    "version": 3
   },
   "file_extension": ".py",
   "mimetype": "text/x-python",
   "name": "python",
   "nbconvert_exporter": "python",
   "pygments_lexer": "ipython3",
   "version": "3.10.2"
  }
 },
 "nbformat": 4,
 "nbformat_minor": 5
}
