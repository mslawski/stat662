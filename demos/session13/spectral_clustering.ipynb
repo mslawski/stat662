{
 "cells": [
  {
   "cell_type": "code",
   "execution_count": 1,
   "id": "d711def4",
   "metadata": {},
   "outputs": [],
   "source": [
    "### Spectral Clustering Illustration (Handwritten Digits) "
   ]
  },
  {
   "cell_type": "code",
   "execution_count": 2,
   "id": "2e1a2554",
   "metadata": {},
   "outputs": [],
   "source": [
    "# modules\n",
    "import numpy as np\n",
    "import pandas as pd\n",
    "from sklearn.metrics.pairwise import euclidean_distances \n",
    "import matplotlib.pyplot as plt\n",
    "from matplotlib import cm\n",
    "import scipy.linalg as la \n",
    "from sklearn.cluster import AgglomerativeClustering\n",
    "from sklearn.mixture import GaussianMixture\n",
    "from sklearn.cluster import spectral_clustering"
   ]
  },
  {
   "cell_type": "code",
   "execution_count": 3,
   "id": "3e18567b",
   "metadata": {},
   "outputs": [
    {
     "name": "stdout",
     "output_type": "stream",
     "text": [
      "784\n",
      "[[0]\n",
      " [0]\n",
      " [0]\n",
      " ...\n",
      " [1]\n",
      " [1]\n",
      " [1]]\n"
     ]
    }
   ],
   "source": [
    "# read data set (here consisting of 1,000 digits 4 [first half of the data], \n",
    "# and 1,000 digits 8 [second half of the data])\n",
    "#\n",
    "# labels are known, but they are not used for constructing the clustering \n",
    "# (but they are used for validation purposes)\n",
    "\n",
    "dir = '../data/'\n",
    "\n",
    "X = np.array(pd.read_csv(dir + \"digits_X.txt\", sep='\\t', header=None))\n",
    "[n, d] = np.shape(X)\n",
    "print(d) # 784 features --- 28 x 28 pixel images\n",
    "labels = np.array(pd.read_csv(dir + \"digits_labels.txt\", sep=' ', header=None))\n",
    "print(labels)"
   ]
  },
  {
   "cell_type": "code",
   "execution_count": 4,
   "id": "8ad80ea7",
   "metadata": {},
   "outputs": [],
   "source": [
    "### compute normalized weight matrix for spectral clustring \n",
    "\n",
    "# compute normalized squared Euclidean distances\n",
    "Droot = euclidean_distances(X)/np.sqrt(d)\n",
    "D = Droot**2\n",
    "\n",
    "### insert the above squared distances into Gaussian kernel, and normalize \n",
    "W = np.exp(-D / 0.05)\n",
    "s = np.sqrt(np.sum(W, 1))\n",
    "Wnorm = W / s[np.newaxis,:] / s[:,np.newaxis]\n",
    "\n",
    "#plt.imshow(Wnorm, cmap=cm.gray, interpolation='nearest', aspect = 'auto')\n",
    "#plt.colorbar()"
   ]
  },
  {
   "cell_type": "code",
   "execution_count": 6,
   "id": "83a65fd4",
   "metadata": {},
   "outputs": [
    {
     "data": {
      "text/plain": [
       "[<matplotlib.lines.Line2D at 0x1332eaf20>]"
      ]
     },
     "execution_count": 6,
     "metadata": {},
     "output_type": "execute_result"
    },
    {
     "data": {
      "image/png": "[encoded data removed]",
      "text/plain": [
       "<Figure size 432x288 with 1 Axes>"
      ]
     },
     "metadata": {
      "needs_background": "light"
     },
     "output_type": "display_data"
    }
   ],
   "source": [
    "#### d)\n",
    "\n",
    "# compute normalized eigenvector of Wtilde corresponding to its maximum eigenvalue\n",
    "snorm = s / np.linalg.norm(s)\n",
    "\n",
    "# power iteration with deflation\n",
    "def power_iteration(A, num_simulations: int):\n",
    "    # Ideally choose a random vector\n",
    "    # To decrease the chance that our vector\n",
    "    # Is orthogonal to the eigenvector\n",
    "    b_k = np.random.rand(A.shape[1])\n",
    "\n",
    "    for _ in range(num_simulations):\n",
    "        # calculate the matrix-by-vector product Ab\n",
    "        b_k1 = np.dot(A, b_k)\n",
    "        \n",
    "        b_k2 = b_k1 - snorm * np.dot(snorm, b_k1)\n",
    "\n",
    "        # calculate the norm\n",
    "        b_k2_norm = np.linalg.norm(b_k2)\n",
    "\n",
    "        # re normalize the vector\n",
    "        b_k = b_k2 / b_k2_norm\n",
    "\n",
    "    return b_k\n",
    "\n",
    "vhat = power_iteration(Wnorm, 100)\n",
    "\n",
    "# plotting eigenvector (note that the first 1,000 correspond to class 4, remaining 1,000 to class 8)\n",
    "plt.plot(vhat)"
   ]
  },
  {
   "cell_type": "code",
   "execution_count": 8,
   "id": "20075f2b",
   "metadata": {},
   "outputs": [
    {
     "data": {
      "text/plain": [
       "0.0825"
      ]
     },
     "execution_count": 8,
     "metadata": {},
     "output_type": "execute_result"
    }
   ],
   "source": [
    "# double check with eigendecomposition\n",
    "#[vals1, vec1] = la.eigh(Wnorm)\n",
    "# np.sum(vhat * vec1[:,1998])\n",
    "#np.sum(vhat * np.dot(Wnorm, vhat))\n",
    "#vals1[1998]\n",
    "\n",
    "\n",
    "# solve 1-d k-means problem\n",
    "ixsort = np.argsort(vhat) \n",
    "vhat_sort = vhat[ixsort]\n",
    "\n",
    "sum1 = np.cumsum(vhat_sort)\n",
    "sum2 = np.sum(vhat_sort) - sum1\n",
    "ss1 = np.cumsum(vhat_sort**2)\n",
    "ss2 = np.sum(vhat_sort**2) - ss1\n",
    "\n",
    "objs = np.zeros(n-1)\n",
    "\n",
    "for i in np.arange(n-1):\n",
    "    objs[i] = (ss1[i] - (sum1[i]**2)/(i+1)) + (ss2[i] - (sum2[i]**2)/(n - i - 1))\n",
    "    \n",
    "    \n",
    "cutoff = vhat_sort[np.argmin(objs)]    \n",
    "np.sum(vhat <= cutoff)\n",
    "\n",
    "cluster_assignment = (vhat <= cutoff) * 1.0\n",
    "# we get a roughly 8% clustering error, which is ok\n",
    "np.min([np.mean(np.abs(cluster_assignment - labels.T)), \\\n",
    "        np.mean(np.abs(cluster_assignment - (1-labels.T)))])\n",
    "\n",
    "\n",
    "### double-check with the scikit-learn implementation\n",
    "#clustering = spectral_clustering(Wnorm, n_clusters = 2, n_components = 2)\n",
    "#np.min([np.mean(clustering != np.squeeze(labels)), np.mean(clustering != (1-np.squeeze(labels)))])"
   ]
  },
  {
   "cell_type": "code",
   "execution_count": 9,
   "id": "d5a0e230",
   "metadata": {},
   "outputs": [
    {
     "data": {
      "text/plain": [
       "0.0355"
      ]
     },
     "execution_count": 9,
     "metadata": {},
     "output_type": "execute_result"
    }
   ],
   "source": [
    "### try other clustering methods --- they achieve lower clustering error here\n",
    "\n",
    "### Gaussian Mixture models\n",
    "gm = GaussianMixture(n_components = 2, random_state = 0, covariance_type = 'spherical', n_init = 20)\n",
    "gm.fit(X)\n",
    "clustering_gm = gm.predict(X)\n",
    "np.min([np.mean(np.abs(clustering_gm - labels.T)), np.mean(np.abs(clustering_gm - (1-labels.T)))])"
   ]
  },
  {
   "cell_type": "code",
   "execution_count": 10,
   "id": "9f18572c",
   "metadata": {},
   "outputs": [
    {
     "data": {
      "text/plain": [
       "0.014"
      ]
     },
     "execution_count": 10,
     "metadata": {},
     "output_type": "execute_result"
    }
   ],
   "source": [
    "### Hierarchical Clustering\n",
    "hier_clustering = AgglomerativeClustering(n_clusters = 2, \\\n",
    "affinity = 'euclidean', linkage = 'ward').fit(X)\n",
    "clustering_hier = hier_clustering.labels_\n",
    "np.min([np.mean(np.abs(clustering_hier - labels.T)), np.mean(np.abs(clustering_hier - (1-labels.T)))])"
   ]
  },
  {
   "cell_type": "code",
   "execution_count": null,
   "id": "469cae60",
   "metadata": {},
   "outputs": [],
   "source": []
  }
 ],
 "metadata": {
  "kernelspec": {
   "display_name": "Python 3 (ipykernel)",
   "language": "python",
   "name": "python3"
  },
  "language_info": {
   "codemirror_mode": {
    "name": "ipython",
    "version": 3
   },
   "file_extension": ".py",
   "mimetype": "text/x-python",
   "name": "python",
   "nbconvert_exporter": "python",
   "pygments_lexer": "ipython3",
   "version": "3.10.2"
  }
 },
 "nbformat": 4,
 "nbformat_minor": 5
}
